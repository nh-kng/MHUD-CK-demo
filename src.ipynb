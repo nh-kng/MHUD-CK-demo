{
 "cells": [
  {
   "cell_type": "markdown",
   "metadata": {},
   "source": [
    "## 3.1.1 Tấn công sử dụng tính căn bậc e"
   ]
  },
  {
   "cell_type": "markdown",
   "metadata": {},
   "source": [
    "Bài toán"
   ]
  },
  {
   "cell_type": "code",
   "execution_count": 149,
   "metadata": {},
   "outputs": [
    {
     "name": "stdout",
     "output_type": "stream",
     "text": [
      "n = 0x943006849b3ad8bcb730d7452e6a9f680fc699580debd151f0b9def29e693a585e1a300fd4ae2a07f05bac20d15f5dd60299121006b0fa90700ffce841c069c38c910c263fb2c07256dbbf39cca02bd4e0ae048055080211c1a7610939a73058eaf2602ef0c01cf6e6f1f2ed3a7051124bb3ac3828364be28188960909d3a689\n",
      "e = 0x3\n",
      "c = 0x5ca337215068974823c0e00eeefc194fd2734374eacc18e1512c8a91565ea40ed5b53b870b861\n"
     ]
    }
   ],
   "source": [
    "from Crypto.Util.number import long_to_bytes, bytes_to_long, getPrime, inverse\n",
    "\n",
    "flag = b'Hello, World!'\n",
    "\n",
    "p = getPrime(512)\n",
    "q = getPrime(512)\n",
    "\n",
    "n = p*q\n",
    "phi = (p - 1) * (q - 1)\n",
    "e = 3\n",
    "d = inverse(e, phi)\n",
    "c = pow(bytes_to_long(flag), e, n)\n",
    "\n",
    "print('n =', hex(n))\n",
    "print('e =', hex(e))\n",
    "print('c =', hex(c))"
   ]
  },
  {
   "cell_type": "markdown",
   "metadata": {},
   "source": [
    "Lời giải"
   ]
  },
  {
   "cell_type": "code",
   "execution_count": 138,
   "metadata": {},
   "outputs": [
    {
     "name": "stdout",
     "output_type": "stream",
     "text": [
      "b'Hello, World!'\n"
     ]
    }
   ],
   "source": [
    "# ref: https://gist.github.com/jl4730/47c6c88bef60ac35b9da961dc424fe82\n",
    "def find_invpow(x: int, n: int):\n",
    "    # build because the math.log function does not work for super big numbers\n",
    "    # the method leveraged binary search algorithm\n",
    "    high = 1\n",
    "    while high ** n <= x:\n",
    "        high *= 2\n",
    "    low = high // 2  # critical to use // instead of / because Python's integers are dynamically sized but not float\n",
    "    while low < high:\n",
    "        mid = (low + high) // 2\n",
    "        if low < mid and mid ** n < x:\n",
    "            low = mid\n",
    "        elif high > mid and mid ** n > x:\n",
    "            high = mid\n",
    "        else:\n",
    "            return mid\n",
    "    return mid + 1\n",
    "\n",
    "m = find_invpow(c, e)\n",
    "print(long_to_bytes(m))"
   ]
  },
  {
   "cell_type": "markdown",
   "metadata": {},
   "source": [
    "## 3.1.2 Tấn công Hastad Broadcast"
   ]
  },
  {
   "cell_type": "markdown",
   "metadata": {},
   "source": [
    "Bài toán"
   ]
  },
  {
   "cell_type": "code",
   "execution_count": 17,
   "metadata": {},
   "outputs": [],
   "source": [
    "from Crypto.Util.number import long_to_bytes, bytes_to_long, getPrime, inverse\n",
    "from sympy.ntheory.modular import crt\n",
    "def RSAKeyGen():\n",
    "    e = 7\n",
    "    p = getPrime(128)\n",
    "    q = getPrime(128)\n",
    "    n = p * q\n",
    "    phi = (p-1) * (q-1)\n",
    "\n",
    "    try:\n",
    "        d = inverse(e, phi)\n",
    "    except:\n",
    "        return RSAKeyGen()\n",
    "    \n",
    "    return n, e #, d, phi\n",
    "\n",
    "def enc():\n",
    "    flag = b'Hello, World!'\n",
    "    m = bytes_to_long(flag)\n",
    "    n, e = RSAKeyGen()\n",
    "    c = pow(m, e, n)\n",
    "\n",
    "    return c, n, e\n"
   ]
  },
  {
   "cell_type": "markdown",
   "metadata": {},
   "source": [
    "Lời giải"
   ]
  },
  {
   "cell_type": "code",
   "execution_count": 19,
   "metadata": {},
   "outputs": [],
   "source": [
    "e = 7\n",
    "ns = []\n",
    "cs = []\n",
    "for i in range(e):\n",
    "    c, n, e = enc()\n",
    "    cs.append(c)\n",
    "    ns.append(n)"
   ]
  },
  {
   "cell_type": "code",
   "execution_count": 20,
   "metadata": {},
   "outputs": [
    {
     "data": {
      "text/plain": [
       "['0x7b39a6dc1c4da2aba3cfadf5e045fbe31a064f2b44326d8408ca8d53bd1582f8',\n",
       " '0x55e7091158f372f9777d337fd65adc015a55eb11f774464ae614aeb55c948f54',\n",
       " '0x49aa4adede1cc03a1a2f97fdee38b00c333fcdbad487e3415e920148c99e72a1',\n",
       " '0x6bd991da864a592a38e067b0f2212ab15728c5b73869717eae87d86273a7ef5e',\n",
       " '0xd5fc5e6c880737ac42490d8fa65e89bacefed236fdbdc6c3dd7cedf554ac8e',\n",
       " '0xd3a3d6b0592b2567110305369afa0381bea3a1d8988bdaf6bde73ca0c7b8dc9d',\n",
       " '0x67f44953ff33cc2471313b9cc3ca9e53219a6a6e36180736519778d7c3f0b49a']"
      ]
     },
     "execution_count": 20,
     "metadata": {},
     "output_type": "execute_result"
    }
   ],
   "source": [
    "[hex(c) for c in cs]"
   ]
  },
  {
   "cell_type": "code",
   "execution_count": 21,
   "metadata": {},
   "outputs": [
    {
     "data": {
      "text/plain": [
       "['0x996155318d2506b7afa4977ef7a1ff436b73f6a4194ae2306167c3b20c10fa1d',\n",
       " '0xbc78b5ccb113fe58749e496b39f8af73aac5e04fc4e6ba416e4ea0d50bc406fb',\n",
       " '0x84bb1da6bc942839855240929c4c6d46200c0a63d8b4fbafb6c61b10e13a29f1',\n",
       " '0xb1f5dcf1e17ebcd6aceda43c2fcadeff952978874e824b5a94f4215fed2a92b3',\n",
       " '0x833118500bc9eaa20698dd670786df5444052c3067b842476dd4c4db552564f5',\n",
       " '0xe2a937b7f5dd6a1b68fabba317bf64b9a368af0605ddf9fc3b05a29de02cce1d',\n",
       " '0xaf10c56424486718ebd953c46157ab7ff57c13e2a51ad838ecae38499f4f88f3']"
      ]
     },
     "execution_count": 21,
     "metadata": {},
     "output_type": "execute_result"
    }
   ],
   "source": [
    "[hex(n) for n in ns]"
   ]
  },
  {
   "cell_type": "code",
   "execution_count": 22,
   "metadata": {},
   "outputs": [
    {
     "data": {
      "text/plain": [
       "b'Hello, World!'"
      ]
     },
     "execution_count": 22,
     "metadata": {},
     "output_type": "execute_result"
    }
   ],
   "source": [
    "me = crt(ns, cs)[0]\n",
    "print(long_to_bytes(find_invpow(me, e)))"
   ]
  },
  {
   "cell_type": "markdown",
   "metadata": {},
   "source": [
    "## 3.2 Tấn công Wiener"
   ]
  },
  {
   "cell_type": "markdown",
   "metadata": {},
   "source": [
    "Tham khảo: https://github.com/pablocelayes/rsa-wiener-attack.git\n",
    "\n",
    "Bài toán"
   ]
  },
  {
   "cell_type": "code",
   "execution_count": 38,
   "metadata": {},
   "outputs": [
    {
     "name": "stdout",
     "output_type": "stream",
     "text": [
      "e = 0xb4189834f2ce48483951d84cf848e3aeb0dfb1b3c12329b50fe0b99121800037\n",
      "n = 0x2b4f1eb8c9ab9bf9c6bbf8cdf095bdaa49c67e35bf8487c64b9adeaff2f4d851f\n",
      "c = 0xf6283682e03c5434f3142b9c3e79bda13c6ed3d7802ba96596bd88c1756d31e8\n"
     ]
    }
   ],
   "source": [
    "import sys\n",
    "sys.path.append('./rsa-wiener-attack')\n",
    "import RSAwienerHacker as wa\n",
    "import RSAvulnerableKeyGenerator as wg\n",
    "\n",
    "from Crypto.Util.number import long_to_bytes, bytes_to_long\n",
    "\n",
    "e, n, d = wg.generateKeys(256)\n",
    "\n",
    "flag = b'Hello, World!'\n",
    "c = pow(bytes_to_long(flag), e, n)\n",
    "\n",
    "print('e =', hex(e))\n",
    "print('n =', hex(n))\n",
    "print('c =', hex(c))"
   ]
  },
  {
   "cell_type": "markdown",
   "metadata": {},
   "source": [
    "Lời giải"
   ]
  },
  {
   "cell_type": "code",
   "execution_count": 40,
   "metadata": {},
   "outputs": [
    {
     "name": "stdout",
     "output_type": "stream",
     "text": [
      "Hacked!\n",
      "d = 7091840790055978951\n",
      "b'Hello, World!'\n"
     ]
    }
   ],
   "source": [
    "d = wa.hack_RSA(e, n)\n",
    "print('d =', d)\n",
    "m = pow(c, d, n)\n",
    "print(long_to_bytes(m))"
   ]
  },
  {
   "cell_type": "markdown",
   "metadata": {},
   "source": [
    "## 3.3 Phân tích Fermat"
   ]
  },
  {
   "cell_type": "markdown",
   "metadata": {},
   "source": [
    "Bài toán"
   ]
  },
  {
   "cell_type": "code",
   "execution_count": 57,
   "metadata": {},
   "outputs": [
    {
     "name": "stdout",
     "output_type": "stream",
     "text": [
      "0x86cafa12fab4afeaeb86ff371627e09646af4b1fffd844646ef051488c7e20711cc6982fc58b1b83179d01b826c2c0092515b0d75c6e12c8376555b6e45aa1ac8de02f9d86a90642e133e27f5cc7ce3b64fde0b8f8f4389eb6c04177990c3c121bc2b85056a9f0626d580267db26820f1baf2cd34809e9dda86c6468f4e7437770929ad1f9e8a1f0c60fea3817178576815a93b82a5d882deffe520dfedde06abfc0504f01b2da4a20289fa95877ccfc7e5a40b5aeccaf005b80d528e46d9617c6f94719fd583ba35b95f35e3a08f6f5d15bbfcd2d29e94d7457448c2ab4b9dbda26e204889acaa909dee6faca6f11ff5b945b1af3bb1cf5553cd239a7a6d70b6fe53e3e2f2a51a0ecc7b9d20741fb3e74c0ab48ff7b8dc285e57a13f4a38baa9f3edc5bb4257fb6536504f98dc91d2a793aaf9d9fda793740101116d1583d35aa04ac7c42eca8356e3ba836877ac47d548b3f573e4d64d1ab7dc7e031a54edd2b49804b2b08ef1df656a34ea0b5a8bafe3408ecf0199c3d79bfc5cbb38708bf34b6acebdb8a4e57081dc63d4d1438d8ca962309bb9e729c30b9f2ec075eab081b51aa52c3caebffaa96790e9e35ad5f383f3059d6a3cab94259b31091076db596d8fed3bf17d32b1db71f3d94129967b8bc0533f22029bd05c009d9ff9bde56113199bc03da43674c58f604c41cc8923ee3beb74ce9776d1741c1e1e5db9e27\n"
     ]
    }
   ],
   "source": [
    "from sympy import nextprime, primefactors\n",
    "from Crypto.Util.number import getPrime\n",
    "p = getPrime(2048)\n",
    "q = nextprime(p)\n",
    "n = p * q\n",
    "print(hex(n))"
   ]
  },
  {
   "cell_type": "markdown",
   "metadata": {},
   "source": [
    "Lời giải"
   ]
  },
  {
   "cell_type": "code",
   "execution_count": 61,
   "metadata": {},
   "outputs": [
    {
     "name": "stdout",
     "output_type": "stream",
     "text": [
      "p = 0xb9c2b2820918c70800c8807f773e1003fdbe850d72ca33fcbffc86b0cfe0ec986d4d51b67230f6997c82cd0d7d5d2de0a7a8f520a60e198841063087f63d465f16e88563e002b7899ef12db928006c5c9d9fc4f0b6c3681e7de9261342e927a09d7ee2136c73e681c133e755f92e734fae82fe002f89355f670b569abd504ae4e6913af4a94a5dfcadcf6d876857fe80e52727cc5a79385d525412f6e63f2bd0fb2d1574dbfd150e6c24f55398b780dde9838094261c063e3bb7947811d2799feb58d9d70e3dafc980fb6e44ef9dabcbfd89f6fec2e1af74936d72a9dd698032d6b3031e7cff7a053ae0b0e51c9a428858ecc4f34dc8c90d1b9d84becf6326c1\n",
      "q = 0xb9c2b2820918c70800c8807f773e1003fdbe850d72ca33fcbffc86b0cfe0ec986d4d51b67230f6997c82cd0d7d5d2de0a7a8f520a60e198841063087f63d465f16e88563e002b7899ef12db928006c5c9d9fc4f0b6c3681e7de9261342e927a09d7ee2136c73e681c133e755f92e734fae82fe002f89355f670b569abd504ae4e6913af4a94a5dfcadcf6d876857fe80e52727cc5a79385d525412f6e63f2bd0fb2d1574dbfd150e6c24f55398b780dde9838094261c063e3bb7947811d2799feb58d9d70e3dafc980fb6e44ef9dabcbfd89f6fec2e1af74936d72a9dd698032d6b3031e7cff7a053ae0b0e51c9a428858ecc4f34dc8c90d1b9d84becf6326e7\n"
     ]
    }
   ],
   "source": [
    "[p, q] = primefactors(n)\n",
    "print('p =', hex(p))\n",
    "print('q =', hex(q))"
   ]
  },
  {
   "cell_type": "markdown",
   "metadata": {},
   "source": [
    "# 3.4.1 Sử dụng tính đồng cấu của hệ mã RSA"
   ]
  },
  {
   "cell_type": "markdown",
   "metadata": {},
   "source": [
    "Bài toán"
   ]
  },
  {
   "cell_type": "code",
   "execution_count": 6,
   "metadata": {},
   "outputs": [
    {
     "name": "stdout",
     "output_type": "stream",
     "text": [
      "c = 0x3622b9847197630578dbe545537c8f9250384a4b2abcb40375e4a7a2fb2df247\n"
     ]
    }
   ],
   "source": [
    "from Crypto.Util.number import getPrime, bytes_to_long, long_to_bytes\n",
    "import gmpy2\n",
    "\n",
    "flag = b'Hello, World!'\n",
    "def get_keys():\n",
    "    while(True):\n",
    "        p = getPrime(128)\n",
    "        q = getPrime(128)\n",
    "        try:\n",
    "            d = gmpy2.invert(65537, (p - 1) * (q - 1))\n",
    "            return p, q\n",
    "\n",
    "def enc(m):\n",
    "    return pow(m, e, N)\n",
    "\n",
    "def dec(c):\n",
    "    return pow(c, d, N)\n",
    "\n",
    "\n",
    "e = 65537\n",
    "p, q = get_keys()\n",
    "d = gmpy2.invert(e, (p - 1) * (q - 1))\n",
    "N = p * q\n",
    "\n",
    "c = enc(bytes_to_long(flag))\n",
    "print('c =', hex(c))\n"
   ]
  },
  {
   "cell_type": "markdown",
   "metadata": {},
   "source": [
    "Lời giải"
   ]
  },
  {
   "cell_type": "code",
   "execution_count": 7,
   "metadata": {},
   "outputs": [
    {
     "name": "stdout",
     "output_type": "stream",
     "text": [
      "2667940651152658288875277051102719108207725823296805779533243811316118115881\n",
      "b'Hello, World!'\n"
     ]
    }
   ],
   "source": [
    "c1 = enc(2); print(c1)\n",
    "c2 = c * c1; m2 = dec(c2)\n",
    "m = (m2 * gmpy2.invert(2, N)) % N\n",
    "print(long_to_bytes(m))"
   ]
  },
  {
   "cell_type": "markdown",
   "metadata": {},
   "source": [
    "# 3.4.2 Tấn công LSB"
   ]
  },
  {
   "cell_type": "markdown",
   "metadata": {},
   "source": [
    "Bài toán"
   ]
  },
  {
   "cell_type": "code",
   "execution_count": 13,
   "metadata": {},
   "outputs": [
    {
     "name": "stdout",
     "output_type": "stream",
     "text": [
      "c = 0x61e320ce2a717da4338537e8a10ec0c06b138880c0b6a42e12242f4308fbea67095c41f9d433fc1b5e3875b361b57ba6e2008d65bdbbbaa02f147ff277395aa33eaed628441c3b4727173ccade847d2b092c60baa01c60c984acc81c35b1f186c2804ae76c27b147d74bee8ded95ea957c591f81eb47eedc18eef3b131b703a9\n"
     ]
    }
   ],
   "source": [
    "import Crypto\n",
    "from Crypto.Util.number import bytes_to_long, long_to_bytes, getPrime\n",
    "import gmpy2\n",
    "import random\n",
    "\n",
    "m = bytes_to_long(b'Hello, World!')\n",
    "e = 65537\n",
    "\n",
    "def genKey(size):\n",
    "    while True:\n",
    "        p = getPrime(size)\n",
    "        q = getPrime(size)\n",
    "        try:\n",
    "            d = gmpy2.invert(65537, (p - 1) * (q - 1))\n",
    "            return p, q\n",
    "        except:\n",
    "            continue\n",
    "\n",
    "p, q = genKey(512)\n",
    "N = p * q\n",
    "phi = (p - 1) * (q - 1)\n",
    "d = gmpy2.invert(e, phi)\n",
    "\n",
    "def encrypt(m):\n",
    "    return pow(m, e, N)\n",
    "\n",
    "def partial_decrypt(c):\n",
    "    return long_to_bytes(pow(c, d, N) & 255)\n",
    "\n",
    "c = encrypt(m)\n",
    "print(f'''c = {hex(c)}''')"
   ]
  },
  {
   "cell_type": "markdown",
   "metadata": {},
   "source": [
    "Lời giải"
   ]
  },
  {
   "cell_type": "code",
   "execution_count": 14,
   "metadata": {},
   "outputs": [
    {
     "data": {
      "text/plain": [
       "b'!'"
      ]
     },
     "execution_count": 14,
     "metadata": {},
     "output_type": "execute_result"
    }
   ],
   "source": [
    "partial_decrypt(c)"
   ]
  },
  {
   "cell_type": "markdown",
   "metadata": {},
   "source": [
    "# 3.5 Tấn công sử dụng phương pháp Coppersmith\n",
    "# 3.5.1 Biết phần lớn bản tin gốc và bản mã hóa của nó, tìm phần còn lại của bản tin gốc"
   ]
  },
  {
   "cell_type": "markdown",
   "metadata": {},
   "source": [
    "Bài toán"
   ]
  },
  {
   "cell_type": "code",
   "execution_count": 1,
   "metadata": {},
   "outputs": [
    {
     "name": "stdout",
     "output_type": "stream",
     "text": [
      "c = 0x8c1f34fd6ca9376bed1cdf7457e9a82f18698990ec9bbe6f832680b1bb092899f6ad0df0d97e1cc670b03e8f18961ec3d31953d734cc5b7\n"
     ]
    }
   ],
   "source": [
    "import Crypto\n",
    "from Crypto.Util.number import bytes_to_long, long_to_bytes\n",
    "import gmpy2\n",
    "import random\n",
    "\n",
    "flag2 = b'This is the flag: {Hello, World!} Good luck!'\n",
    "m = bytes_to_long(flag2)\n",
    "N = int('0x6f7d4b589de9bd9171ab941c46571de75bd73ab9f03d22fd21e71b206298c35e7a1dfc551b3f4b2f468c0dd6cc3bd4a471d95e6e7df85331', 16)\n",
    "e = 3\n",
    "c = pow(m, e, N)\n",
    "print(f'c = {hex(c)}')"
   ]
  },
  {
   "cell_type": "markdown",
   "metadata": {},
   "source": [
    "Lời giải"
   ]
  },
  {
   "cell_type": "code",
   "execution_count": 2,
   "metadata": {},
   "outputs": [],
   "source": [
    "import Crypto\n",
    "from Crypto.Util.number import bytes_to_long, long_to_bytes\n",
    "import gmpy2\n",
    "import random\n",
    "\n",
    "U = bytes_to_long(b'This is the flag: {')\n",
    "V = bytes_to_long(b'} Good luck!')"
   ]
  },
  {
   "cell_type": "code",
   "execution_count": 3,
   "metadata": {},
   "outputs": [
    {
     "name": "stdout",
     "output_type": "stream",
     "text": [
      "b'Hello, World!'\n"
     ]
    }
   ],
   "source": [
    "F.<x> = PolynomialRing(Zmod(N), implementation='NTL')\n",
    "inv = gmpy2.invert(1 << 96, N)\n",
    "known = int(U * (1 << 104) + V * inv)\n",
    "inv2 = inv ** 3\n",
    "f = (x + known) ** 3 - c * inv2\n",
    "f = f.monic()\n",
    "x0 = f.small_roots(X = 2**104)\n",
    "for xs in x0:\n",
    "    print(long_to_bytes(Integer(xs)))"
   ]
  },
  {
   "cell_type": "markdown",
   "metadata": {},
   "source": [
    "# 3.5.2 Biết được rằng hai số nguyên tố lớn thỏa mãn thêm điều kiện khác"
   ]
  },
  {
   "cell_type": "markdown",
   "metadata": {},
   "source": [
    "Bài toán"
   ]
  },
  {
   "cell_type": "code",
   "execution_count": 4,
   "metadata": {},
   "outputs": [
    {
     "name": "stdout",
     "output_type": "stream",
     "text": [
      "c = 0x5e50c10d9787df08c9b86c1e2480b9bbafa41b0dd8e4b3c9d2255fb4b87bd563e03c667525397884de4654c75557d56d16c656fa2e0724a58ea7efc44472e176\n"
     ]
    }
   ],
   "source": [
    "import Crypto\n",
    "from Crypto.Util.number import bytes_to_long, long_to_bytes\n",
    "import gmpy2\n",
    "import random\n",
    "\n",
    "N = int('0x91b9ed824be0348f88a44aab16a88d1393ee86db598a8380b30aed84cb06bae4836985de7d4aa95b958b912d5c29324e68bb1234b66afa6067f21aed432d3bd1', 16)\n",
    "flag = b'Hello, World!'\n",
    "m = bytes_to_long(flag)\n",
    "e = 65537\n",
    "c = pow(m, e, N)\n",
    "print(f'c = {hex(c)}')"
   ]
  },
  {
   "cell_type": "markdown",
   "metadata": {},
   "source": [
    "Lời giải"
   ]
  },
  {
   "cell_type": "code",
   "execution_count": 9,
   "metadata": {},
   "outputs": [],
   "source": [
    "import Crypto\n",
    "from Crypto.Util.number import bytes_to_long, long_to_bytes\n",
    "import gmpy2\n",
    "import random\n",
    "\n",
    "sqrt = gmpy2.isqrt(N)\n",
    "\n",
    "def find_sqrt_modulo_power_two(a2, e):\n",
    "    if e <= 3 and (a2 & 7 == 1):\n",
    "        return [2 * k + 1 for k in range(2**(e - 1))]\n",
    "    else:\n",
    "        if a2 & 7 != 1:\n",
    "            return []\n",
    "        else:\n",
    "            a = [1, 3, 5, 7]\n",
    "            pow = 16\n",
    "            for exp in range(4, e + 1):\n",
    "                roots = []\n",
    "                target = a2 % pow\n",
    "                for x in a:\n",
    "                    if (x**2) % pow == target:\n",
    "                        roots.append(x)\n",
    "                        roots.append(x|(2**(exp - 1)))\n",
    "                a.clear()\n",
    "                a = roots[:]\n",
    "                pow = pow << 1\n",
    "            return a\n",
    "        \n",
    "\n",
    "def solve():    \n",
    "    for half in range(120, 15, -1):\n",
    "        for rand in range(half - 1, 7, -1):\n",
    "            l = rand\n",
    "            k = 256 - l - half\n",
    "            a = (sqrt >> (256 - l))\n",
    "            F.<x> = PolynomialRing(Zmod(N))\n",
    "\n",
    "            for b in find_sqrt_modulo_power_two(N % (2**k), k):\n",
    "                c = (a << (256 - l)) + b\n",
    "                inv = gmpy2.invert(1 << k, N)\n",
    "                f = x + int(c * inv)\n",
    "                f = f.monic()\n",
    "                x0 = f.small_roots(X=(2 ** half - 1), beta=0.44, epsilon=1/32)\n",
    "                for xs in x0:\n",
    "                    pcand = c + Integer(xs) * (1 << k)\n",
    "                    p = Integer(pcand)\n",
    "                    if N % pcand == 0:\n",
    "                        print(f'l = {l}, k = {k}')\n",
    "                        print(f'[+] p = {p}')\n",
    "                        q = N//p\n",
    "                        print(f'[+] q = {q}')\n",
    "                        return p, q"
   ]
  },
  {
   "cell_type": "code",
   "execution_count": 10,
   "metadata": {},
   "outputs": [
    {
     "name": "stdout",
     "output_type": "stream",
     "text": [
      "l = 72, k = 64\n",
      "[+] p = 87363061981042418024446851108683195130040255634985677544463653819040881563593\n",
      "[+] q = 87363061981042418024415618260561587399224362984748717231642857324483861927881\n",
      "b'Hello, World!'\n"
     ]
    }
   ],
   "source": [
    "p, q = solve()\n",
    "phi = (p - 1) * (q - 1)\n",
    "d = gmpy2.invert(e, phi)\n",
    "m = pow(c, d, N)\n",
    "print(long_to_bytes(int(m)))"
   ]
  },
  {
   "cell_type": "markdown",
   "metadata": {},
   "source": [
    "# 3.6.1 Hai khóa bí mật chênh lệch chỉ vài đơn vị."
   ]
  },
  {
   "cell_type": "markdown",
   "metadata": {},
   "source": [
    "Bài toán"
   ]
  },
  {
   "cell_type": "code",
   "execution_count": 11,
   "metadata": {},
   "outputs": [
    {
     "name": "stdout",
     "output_type": "stream",
     "text": [
      "N = 0x9c1c57619c3f372044373e6a28d6532ea04b507b88f1c69cb91db2cc4c196aaf7c6c26bcc9c2fc4227ad6a370eb84edb4f32e2feef7e29ef57cff0ede7a9e314aca105833def322f09b83e9e8d30d5ddcc6508a16095a941d7ea296dbfa6053778fa7e0860eca8f8c65b861bd2d13790152f8258060f57fa3df59a6edf3e88c0bd8812ce7f42e9efeb3ce93fe8ff967c56d1283bc5e68ed2b418ea1fb3af3268fbf952c95425e79f523b5d7a3c928d7ca3232470fd3371ba757d9e8af36153e42c376c59739715b0032bd1cfa9d1fc47fee00099d8738e3c3e8102ab5fedc78b8ce56c20a21a24df82e6d94524d000e05f29d2ad55fef87985e68aa4d202283f\n",
      "e1 = 0x6e3ba1043ef57072ab58ab0d015b1e0fad86a1052a55375ed164842db88ab607c67f03f7892cd33dcf90a790cb27201fc253f76ff7230a6f847d43ee6a084f5df8ec16dd6ead69ad475abf74ebd411207644dd8c3e8c4fa13bda90787bbcbab04a0fef50f1480ba4e7441775ac2ea9e266e34e51e3ad8ffd1725477084d93e6c6137578b1b0212d96baa32f8df090a4a05683c7ea2c7f2a99fce9565637d69a52c04483a19625737d45798aa769e1f1d23c791713e1cbb4dc11e58795151dcb61bee2e290a57a0a47636a45877d3d1d50e59f826e44f854b73b466234330333429902239e4e225d2f68803e0ca8147a7ee708307d6446cce9a5115ce50496189\n",
      "e2 = 0x6ee9def5c3d4543640dcd6f08016e194db55e483b7b17dbc9624ee3444b8c25007218b0fa1938043e3e42e5680b91300b1de945305192acde46d02ff867a7a802c3468c2e6e2b11eb27a282f8198631c16e23e153053a56dc212151766e4803f6bdb52246717f75c9931820d20cd417537c92e86940844d26edb86ce0e40445aa9aea42f4d19116f97de1fdbdb89dc17dc2a52188bc1203a4bb965f474fb0f828b24925ace579912b7cda062773fa94c2440a3ce83c7bb52e2b0b3d2a912dba736eef859b2273fae799e1b908aa0ef551a58702f927827aa9c9ecb1343b5ffe579df074a8aedbf6a7e2ce4dfb611c7c3997d6d0926f63875bdb655172e80e69f\n",
      "c = 0x6ddfe82aad67703e244d8d3f78ee93d273f7ccdeec59beb8a9a3713b480b529b4893da5dd33795148ee229bbf1921d33d34a306e76475e219bffb94d38d176aefb4d81f1ca88bf1b7b09db5c29e16bd3b3cd6023c704988c195399491b9e07083516452dfd0e1bc36f79dd047fc6728b7aa7cb821be6f93827c168eb825601b3462e9b97e9aee4e8d7c889a9dd66d92b27648ff8b0613b0192513956e1773adaa7f8e8525470ee0db5ee55f4992ffd3e80b825aa31d1a95a03617e7ebeeead1555e1a10c6656dcd66c87b294463200bd9bc2d5a7ac065f73e4d71b686480771894421108b6f2b4cc8e5af64952c9e67d7961c92cab5c4427f8252039517351a8\n"
     ]
    }
   ],
   "source": [
    "import Crypto\n",
    "from Crypto.Util.number import bytes_to_long, long_to_bytes, getPrime\n",
    "import gmpy2\n",
    "import random\n",
    "\n",
    "m = bytes_to_long(b'Hello, World!')\n",
    "d1 = 65537\n",
    "\n",
    "def genKey(d=6):\n",
    "    while True:\n",
    "        p = getPrime(1024)\n",
    "        q = getPrime(1024)\n",
    "        phi = (p - 1) * (q - 1)\n",
    "        try:\n",
    "            e1 = gmpy2.invert(d1, phi)\n",
    "            e2 = gmpy2.invert(d1 + d, phi)\n",
    "            return (p * q, e1, e2)\n",
    "        except:\n",
    "            continue\n",
    "\n",
    "N, e1, e2 = genKey()\n",
    "c = pow(m, e1, N)\n",
    "\n",
    "print(f'''N = {hex(N)}\n",
    "e1 = {hex(e1)}\n",
    "e2 = {hex(e2)}\n",
    "c = {hex(c)}''')"
   ]
  },
  {
   "cell_type": "markdown",
   "metadata": {},
   "source": [
    "Lời giải"
   ]
  },
  {
   "cell_type": "code",
   "execution_count": 12,
   "metadata": {},
   "outputs": [
    {
     "name": "stdout",
     "output_type": "stream",
     "text": [
      "5\n",
      "231389382256979669618421537272946674880583440900198180514833798449569502578264636049958469828880780083336677719049297961603859777430758033764913163101070609897726632289633233379365792489170488138518028079031227850637965000629015126861877232781226298275670121787488921193974931352787145921367222356901294770810107914349099923694302559827213781963025187868271903048061772708183755530010280217877010071187923722729829332224273769732888780663098017492681791309891438171688653696719991900080679017317279399698505000715681612575375035963320414363860454786278197950543401626748205152790418115641563523700777497998670529584467407286470688635331431169149648892721343876700247375678373558341233173944030782246890129274272941286171629022919122967752599731615956303919107817196661547598830004936885063493465188275692620919621206432152383403568177145952300137895450496805578032017045725422427119978682528928989601421811304065878355327595907591741712961076226296816125984814888371210084067732796493880893760574190268162900299171497698327093407084397711822081054546900952858696657412805087403468910211443734242669190741104674182026385899128692121285732074808352353956995773750094141170002756168838545785470701211941015725081453447146878231778655001\n",
      "b'Hello, World!'\n"
     ]
    }
   ],
   "source": [
    "mult = 6 * e1 * e2 + e2 - e1\n",
    "g = gmpy2.gcd(mult, e1)\n",
    "print(g)\n",
    "d = gmpy2.invert(e1, mult//g)\n",
    "print(d)\n",
    "m = pow(c, d, N)\n",
    "print(long_to_bytes(m))"
   ]
  },
  {
   "cell_type": "markdown",
   "metadata": {},
   "source": [
    "# 3.6.2 Trường hợp khi số mũ và giá trị hàm phi-Euler không nguyên tố cùng nhau"
   ]
  },
  {
   "cell_type": "markdown",
   "metadata": {},
   "source": [
    "Bài toán"
   ]
  },
  {
   "cell_type": "code",
   "execution_count": 11,
   "metadata": {},
   "outputs": [
    {
     "name": "stdout",
     "output_type": "stream",
     "text": [
      "N = 0x1b3eb2c5a767f7cc729a8fed67627b9688f741852c14496320ffea94a5ae6f16d507960c605e1ca4bc7517853ed4bee75c64dd97107491fd7d45803f5835736a8620da4c7febbe225fbda617843891d387f2b4a54a4403dcd2b8dc2551dae87f4fb0ee08d73ea4b6e55318fcc1ea1336f63b67b2957a46b563fee1f4d9da67655240d29fd1a5893aeb1bda7280ae526bdaf0bb0c3c52a117dfc63eeb8b85c5c1104b727c9cc568f09c572a630c7e85550043b4360109d18e8c329368b1e86e0c6f3d7cefedc0e8afcd5f64706fa59d2921ce32dfd6d1a22937d2c411c473867770ab7f0d1c46c50d652375073b3e275865acb50e2a2ea5a70be3dc635f4873285\n",
      "c = 0xaaf4c940c58f66103e910d25cfc24f52fc75908d21d7aead87381b563973742276d441ba98aea08e9c2404a66384c289087bfc03f7855be64b01103fd2d20b6e1315f3bb55a6f900a93602a8a5d4d0c3765accfb951245cf8027526350f777523eec14509d95d8a351d7e11cda897f19b2c674f83fd7f1585742e138204f708ae3487a67c31732eea11bade665a995afdbda7c9a13398ea962e6fba145f729de9796aa7aaaea1\n"
     ]
    }
   ],
   "source": [
    "import Crypto\n",
    "from Crypto.Util.number import bytes_to_long, long_to_bytes, getPrime\n",
    "import gmpy2\n",
    "import random\n",
    "\n",
    "m = bytes_to_long(b'Hello, World!')\n",
    "e = 65537\n",
    "\n",
    "def genKey(size):\n",
    "    while True:\n",
    "        p = getPrime(size)\n",
    "        q = 2 * p + 1\n",
    "        if gmpy2.is_prime(q):\n",
    "            return p, q\n",
    "\n",
    "p, q = genKey(1024)\n",
    "N = p * q\n",
    "c = pow(m, N, N)\n",
    "\n",
    "print(f'''N = {hex(N)}\n",
    "c = {hex(c)}''')"
   ]
  },
  {
   "cell_type": "markdown",
   "metadata": {},
   "source": [
    "Lời giải"
   ]
  },
  {
   "cell_type": "code",
   "execution_count": 12,
   "metadata": {},
   "outputs": [
    {
     "name": "stdout",
     "output_type": "stream",
     "text": [
      "b'Hello, World!'\n"
     ]
    }
   ],
   "source": [
    "p = gmpy2.isqrt(N * 8 + 1) >> 2\n",
    "q = 2 * p + 1\n",
    "phi = 2 * p * (p - 1)\n",
    "d = gmpy2.invert(q, phi)\n",
    "m = pow(c, d, p)\n",
    "print(long_to_bytes(m))\n"
   ]
  }
 ],
 "metadata": {
  "kernelspec": {
   "display_name": "Python 3",
   "language": "python",
   "name": "python3"
  },
  "language_info": {
   "codemirror_mode": {
    "name": "ipython",
    "version": 3
   },
   "file_extension": ".py",
   "mimetype": "text/x-python",
   "name": "python",
   "nbconvert_exporter": "python",
   "pygments_lexer": "ipython3",
   "version": "3.10.11"
  }
 },
 "nbformat": 4,
 "nbformat_minor": 2
}
